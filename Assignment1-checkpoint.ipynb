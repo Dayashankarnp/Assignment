{
 "cells": [
  {
   "cell_type": "markdown",
   "id": "e331a656",
   "metadata": {},
   "source": [
    "1. In the below elements which of them are values or an expression? eg:- values can be integer or string and expressions will be mathematical operators.\n",
    "* \n",
    "'hello'\n",
    "-87.8\n",
    "- \n",
    "/ \n",
    "+\t\n",
    "6 \n",
    "ANS: 1)'hello' , -87.8 , 6 are values\n",
    "2)assigning values -87.8 and 6 are considered as expresiions"
   ]
  },
  {
   "cell_type": "markdown",
   "id": "52c577f9",
   "metadata": {},
   "source": [
    "2. What is the difference between string and variable?\n",
    "ANS:*varibale is the address of the value or data entered\n",
    "*whereas string is a sequence of characters stored sequentially inmemory locations where everything inside the apostrophe is considerd as character even space\n",
    "*a string can be assigned to a variable and even numbers or any characters be assigned as well\n",
    "Variable---> a=45 ,subject=\"MAthematics is beautiful\"\n",
    "    here both a and subject are variable\n",
    "    and \"Mathematics is beautiful\" is a string"
   ]
  },
  {
   "cell_type": "markdown",
   "id": "7b28f835",
   "metadata": {},
   "source": [
    "3. Describe three different data types.\n",
    "Ans:\n",
    "1.Numeric datatypes such as int for integer,float-->decimel value and boolean \n",
    "2.String datatype--> str is a sequence of characters\n",
    "3.Sequence datatype -->list and tuple are data structures for storing collections of items.\n",
    "List use [] whereas tuple use {} to store data. Both are ordered and can have character as well as numeric values\n",
    "Lists are more commonly used when you need to store a collection of items that might change over time or if you need to perform operations like adding or removing elements. Tuples are typically used when you want to create an immutable collection of items, often used as keys in dictionaries or when you want to ensure that the data in the collection remains constant throughout your program.\n",
    "4.Mapping datatype -->dictonary \n"
   ]
  },
  {
   "cell_type": "markdown",
   "id": "a0bed3c0",
   "metadata": {},
   "source": [
    "4. What is an expression made up of? What do all expressions do?\n",
    "Ans:\n",
    "    An expression in programming is a combination of one or more values, variables, operators, and function calls that can be evaluated to produce a result\n",
    "    It consists of one or more operators and operands and operators are +,-,*,/,>,<,= etc\n",
    "    Expressions serve various purposes in programming:\n",
    "    \n",
    "    Computation:example, 2 + 3 is an expression that computes the sum of two numbers.\n",
    "    \n",
    "    Assignment: To assign a value to a variable. For example, x = 10 assigns the value 10 to the variable x, and x + 5 is an expression.\n",
    "\n",
    "    Comparison: Expressions are used to compare values or variables using comparison operators. For example, x > 5 is an expression that checks if the value of x is greater than 5.\n",
    "\n",
    "    Conditionals: Expressions are used within conditional statements (e.g., if statements) to determine which branch of code to execute based on the evaluation of the expression.\n"
   ]
  },
  {
   "cell_type": "markdown",
   "id": "f4ff096b",
   "metadata": {},
   "source": [
    "5. This assignment statements, like spam = 10. What is the difference between an expression and a statement?\n",
    "Ans:\n",
    "A statement is an instruction that a Python interpreter can execute. So, in simple words, we can say anything written in Python is a statement.\n",
    "So spam=10 is a statement\n",
    "statement an also be a expression,assigning lists,tuples etc\n",
    "spam=10 is a statement\n",
    "spam+=10 is a expression aswell as a statement\n",
    "print(spam) is a statement and not a expression\n"
   ]
  },
  {
   "cell_type": "markdown",
   "id": "2d5cfcb7",
   "metadata": {},
   "source": [
    "6. After running the following code, what does the variable bacon contain?\n",
    "bacon = 22\n",
    "bacon + 1\n",
    "Ans:\n",
    "variable bacon contains the value 22 ie bacon=22\n",
    "since the expression is bacon + 1 and it is not assigning it to the bacon the value of the bacon remains same"
   ]
  },
  {
   "cell_type": "markdown",
   "id": "1ce16268",
   "metadata": {},
   "source": [
    "7. What should the values of the following two terms be?\n",
    "'spam' + 'spamspam'\n",
    "'spam' * 3\n",
    "Ans:\n",
    "* spamspaspam\n",
    "* error as string and number cannot be muktiplied\n"
   ]
  },
  {
   "cell_type": "markdown",
   "id": "417b3498",
   "metadata": {},
   "source": [
    "8. Why is eggs a valid variable name while 100 is invalid?\n",
    "Ans:\n",
    "Variable name cannot start with number but can start with alphabet or underscore character"
   ]
  },
  {
   "cell_type": "markdown",
   "id": "de1af32d",
   "metadata": {},
   "source": [
    "9. What three functions can be used to get the integer, floating-point number, or string version of a value?\n",
    "Ans:\n",
    "int for integer int()\n",
    "float for floating point number float()\n",
    "str for string"
   ]
  },
  {
   "cell_type": "markdown",
   "id": "582524c1",
   "metadata": {},
   "source": [
    "10. Why does this expression cause an error? How can you fix it?\n",
    "'I have eaten ' + 99 + ' burritos.'\n",
    "Ans:\n",
    "YES it gives you error as an expression can contain either string values or numericals\n",
    "Fixed statement: \"I have eaten\"+\"99\"+\"burritos\"\n",
    "\n"
   ]
  }
 ],
 "metadata": {
  "kernelspec": {
   "display_name": "Python 3 (ipykernel)",
   "language": "python",
   "name": "python3"
  },
  "language_info": {
   "codemirror_mode": {
    "name": "ipython",
    "version": 3
   },
   "file_extension": ".py",
   "mimetype": "text/x-python",
   "name": "python",
   "nbconvert_exporter": "python",
   "pygments_lexer": "ipython3",
   "version": "3.11.4"
  }
 },
 "nbformat": 4,
 "nbformat_minor": 5
}
